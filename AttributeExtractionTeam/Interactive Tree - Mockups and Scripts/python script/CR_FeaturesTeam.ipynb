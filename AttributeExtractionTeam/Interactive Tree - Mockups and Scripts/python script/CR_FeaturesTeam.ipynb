{
 "metadata": {
  "name": ""
 },
 "nbformat": 3,
 "nbformat_minor": 0,
 "worksheets": [
  {
   "cells": [
    {
     "cell_type": "code",
     "collapsed": false,
     "input": [
      "import json\n",
      "from pprint import pprint\n",
      "import urllib\n",
      "import urllib2\n",
      "import simplejson as sj\n",
      "import pprint\n",
      "pp = pprint.PrettyPrinter(indent=4)\n",
      "from pandas import *\n",
      "from pylab import *\n",
      "%pylab inline\n",
      "from time import sleep\n",
      "import matplotlib.pyplot as plt; plt.rcdefaults()\n",
      "import numpy as np\n",
      "import matplotlib.pyplot as plt\n",
      "import pandas as pd\n",
      "from datetime import timedelta\n",
      "\n",
      "json_data=open('data/product_cars.json')\n",
      "json_data2=open('data/product_electronicsComputers.json')\n",
      "json_data3=open('data/product_appliances.json')\n",
      "\n",
      "data = json.load(json_data)\n",
      "data2 = json.load(json_data2)\n",
      "data3 = json.load(json_data3)\n",
      "\n",
      "json_data.close()\n",
      "json_data2.close()\n",
      "json_data3.close()"
     ],
     "language": "python",
     "metadata": {},
     "outputs": [
      {
       "output_type": "stream",
       "stream": "stdout",
       "text": [
        "Populating the interactive namespace from numpy and matplotlib\n"
       ]
      },
      {
       "output_type": "stream",
       "stream": "stderr",
       "text": [
        "WARNING: pylab import has clobbered these variables: ['power', 'linalg', 'random', 'fft', 'info']\n",
        "`%pylab --no-import-all` prevents importing * from pylab and numpy\n"
       ]
      }
     ],
     "prompt_number": 90
    },
    {
     "cell_type": "code",
     "collapsed": false,
     "input": [
      "carIDs =[]\n",
      "for i in data:\n",
      "    carIDs.append(i['id'])"
     ],
     "language": "python",
     "metadata": {},
     "outputs": [],
     "prompt_number": 91
    },
    {
     "cell_type": "code",
     "collapsed": false,
     "input": [
      "elecIDs =[]\n",
      "for i in data2:\n",
      "    elecIDs.append(i['id'])"
     ],
     "language": "python",
     "metadata": {},
     "outputs": [],
     "prompt_number": 92
    },
    {
     "cell_type": "code",
     "collapsed": false,
     "input": [
      "appIDs =[]\n",
      "for i in data3:\n",
      "    appIDs.append(i['id'])\n"
     ],
     "language": "python",
     "metadata": {},
     "outputs": [],
     "prompt_number": 93
    },
    {
     "cell_type": "code",
     "collapsed": false,
     "input": [
      "print len(carIDs)\n",
      "print len(elecIDs)\n",
      "print len(appIDs)\n"
     ],
     "language": "python",
     "metadata": {},
     "outputs": [
      {
       "output_type": "stream",
       "stream": "stdout",
       "text": [
        "416\n",
        "4254\n",
        "15116\n"
       ]
      }
     ],
     "prompt_number": 95
    },
    {
     "cell_type": "code",
     "collapsed": false,
     "input": [
      "#Input list of IDs\n",
      "#Output Array of Rating Features\n",
      "def get_RatingFeatures(ids,category):\n",
      "    i=0\n",
      "    noRate=0\n",
      "    noFilter=0\n",
      "    features=[]\n",
      "    prodFeatures=[]\n",
      "    for x in ids:\n",
      "        for d in category:\n",
      "            if d['id'] == x:        \n",
      "                e1=d\n",
      "                name = e1['displayName']\n",
      "                #pp.pprint(e1)\n",
      "                if e1.has_key(\"ratings\"):\n",
      "                    #print d['id']\n",
      "                    rating=e1['ratings']\n",
      "                    for rr in rating:\n",
      "                        r=rr['isCategoryCommonAttribute']\n",
      "                   #     if r:\n",
      "                            #pp.pprint(rr)\n",
      "                        if rr.has_key(\"filterWidget\"):\n",
      "                            t=getType(rr['filterWidget'])\n",
      "                            features.append({'name':rr['displayName'],'value':rr['value'],'type':t})\n",
      "                    #         else:\n",
      "                                #print 'no filterWidget'\n",
      "                               # pp.pprint(rr)\n",
      "                    #            noFilter=noFilter+1\n",
      "                        #else:\n",
      "                            #print 'NOT R'\n",
      "                            #pp.pprint(rr)                      \n",
      "                    prodFeatures.append({'id':x,'name':name,'features':features})\n",
      "                    features=[]\n",
      "                else:\n",
      "                    #print(\"NO RATINGS\")\n",
      "                    #pp.pprint(e1['id'])\n",
      "                    noRate=noRate+1\n",
      "    print 'DONE'\n",
      "   # pp.pprint(prodFeatures)\n",
      "    print 'no Rate'\n",
      "    print noRate\n",
      "    print 'no filter'\n",
      "    print noFilter\n",
      "    return prodFeatures\n",
      "\n",
      "        \n"
     ],
     "language": "python",
     "metadata": {},
     "outputs": [],
     "prompt_number": 96
    },
    {
     "cell_type": "code",
     "collapsed": false,
     "input": [
      "def getType(x):\n",
      "    return {\n",
      "        'MULTI SELECT BOX': 'checkBox',\n",
      "        'BLOB SLIDER': 'fiveStars',\n",
      "        'NUMERIC SLIDER':'slider'\n",
      "        }.get(x, x)  "
     ],
     "language": "python",
     "metadata": {},
     "outputs": [],
     "prompt_number": 97
    },
    {
     "cell_type": "code",
     "collapsed": false,
     "input": [
      "rate_features_car=get_RatingFeatures(carIDs,data)\n"
     ],
     "language": "python",
     "metadata": {},
     "outputs": [
      {
       "output_type": "stream",
       "stream": "stdout",
       "text": [
        "DONE\n",
        "no Rate\n",
        "15\n",
        "no filter\n",
        "0\n"
       ]
      }
     ],
     "prompt_number": 98
    },
    {
     "cell_type": "code",
     "collapsed": false,
     "input": [
      "rate_features_elec=get_RatingFeatures(elecIDs,data2)\n",
      "\n"
     ],
     "language": "python",
     "metadata": {},
     "outputs": [
      {
       "output_type": "stream",
       "stream": "stdout",
       "text": [
        "DONE\n",
        "no Rate\n",
        "2752\n",
        "no filter\n",
        "0\n"
       ]
      }
     ],
     "prompt_number": 99
    },
    {
     "cell_type": "code",
     "collapsed": false,
     "input": [
      "rate_features_app=get_RatingFeatures(appIDs,data3)\n",
      "\n"
     ],
     "language": "python",
     "metadata": {},
     "outputs": [
      {
       "output_type": "stream",
       "stream": "stdout",
       "text": [
        "DONE\n",
        "no Rate\n",
        "13002\n",
        "no filter\n",
        "0\n"
       ]
      }
     ],
     "prompt_number": 100
    },
    {
     "cell_type": "code",
     "collapsed": false,
     "input": [
      "#Input list of IDs\n",
      "#Output Array of Specs Features\n",
      "def get_SpecFeatures(ids,category):\n",
      "    i=0\n",
      "    noSpec=0\n",
      "    noFilter=0\n",
      "    features=[]\n",
      "    prodFeatures=[]\n",
      "    for x in ids:\n",
      "        for d in category:\n",
      "            if d['id'] == x:        \n",
      "                e1=d\n",
      "                name = e1['displayName']\n",
      "                #pp.pprint(e1)\n",
      "                if e1.has_key(\"specs\"):\n",
      "                    #print d['id']\n",
      "                    specs=e1['specs']\n",
      "                    for rr in specs:\n",
      "                        r=rr['isCategoryCommonAttribute']\n",
      "                        #if r:\n",
      "                            #pp.pprint(rr)\n",
      "                        if rr.has_key(\"filterWidget\"):\n",
      "                            t=getType(rr['filterWidget'])\n",
      "                            features.append({'name':rr['displayName'],'value':rr['value'],'type':t})\n",
      "                        else:\n",
      "                             #print 'no filterWidget'\n",
      "                           # pp.pprint(rr)\n",
      "                            noFilter=noFilter+1\n",
      "                            features.append({'name':rr['displayName'],'value':rr['value'],'type':'NA'})\n",
      "                        #else:\n",
      "                            #print 'NOT R'\n",
      "                            #pp.pprint(rr)                      \n",
      "                    prodFeatures.append({'id':x,'name':name,'features':features})\n",
      "                    features=[]\n",
      "                else:\n",
      "                    #print(\"NO RATINGS\")\n",
      "                    #pp.pprint(e1['id'])\n",
      "                    noSpec=noSpec+1\n",
      "    print 'DONE'\n",
      "   # pp.pprint(prodFeatures)\n",
      "    print 'no Spec'\n",
      "    print noSpec\n",
      "    print 'no filter'\n",
      "    print noFilter\n",
      "    return prodFeatures\n",
      "\n",
      "        \n"
     ],
     "language": "python",
     "metadata": {},
     "outputs": [],
     "prompt_number": 101
    },
    {
     "cell_type": "code",
     "collapsed": false,
     "input": [
      "spec_features_cars=get_SpecFeatures(carIDs,data)\n"
     ],
     "language": "python",
     "metadata": {},
     "outputs": [
      {
       "output_type": "stream",
       "stream": "stdout",
       "text": [
        "DONE\n",
        "no Spec\n",
        "72\n",
        "no filter\n",
        "1\n"
       ]
      }
     ],
     "prompt_number": 102
    },
    {
     "cell_type": "code",
     "collapsed": false,
     "input": [
      "spec_features_elec=get_SpecFeatures(elecIDs,data2)\n"
     ],
     "language": "python",
     "metadata": {},
     "outputs": [
      {
       "output_type": "stream",
       "stream": "stdout",
       "text": [
        "DONE\n",
        "no Spec\n",
        "316\n",
        "no filter\n",
        "1821\n"
       ]
      }
     ],
     "prompt_number": 103
    },
    {
     "cell_type": "code",
     "collapsed": false,
     "input": [
      "spec_features_app=get_SpecFeatures(appIDs,data3)\n"
     ],
     "language": "python",
     "metadata": {},
     "outputs": [
      {
       "output_type": "stream",
       "stream": "stdout",
       "text": [
        "DONE\n",
        "no Spec\n",
        "1742\n",
        "no filter\n",
        "7185\n"
       ]
      }
     ],
     "prompt_number": 104
    },
    {
     "cell_type": "code",
     "collapsed": false,
     "input": [
      "def get_counts(features):\n",
      "    unique=[]\n",
      "    count=[]\n",
      "    for x in features: #x is a product\n",
      "        for y in x['features']: #y is one spec feature\n",
      "            if y['name'] in unique:\n",
      "                i=unique.index(y['name'])\n",
      "                count[i]=count[i]+1\n",
      "            else:\n",
      "                unique.append(y['name'])\n",
      "                count.append(1)\n",
      "    df= DataFrame([unique,count])\n",
      "    return df\n",
      "\n",
      "            \n",
      "    "
     ],
     "language": "python",
     "metadata": {},
     "outputs": [],
     "prompt_number": 120
    },
    {
     "cell_type": "code",
     "collapsed": false,
     "input": [
      "df_rate_cars = get_counts(rate_features_car)\n",
      "df_spec_cars = get_counts(spec_features_cars)\n"
     ],
     "language": "python",
     "metadata": {},
     "outputs": [],
     "prompt_number": 123
    },
    {
     "cell_type": "code",
     "collapsed": false,
     "input": [
      "print df_rate_cars.values\n",
      "print '-----'\n",
      "print df_spec_cars.values"
     ],
     "language": "python",
     "metadata": {},
     "outputs": [
      {
       "output_type": "stream",
       "stream": "stdout",
       "text": [
        "[[u'Cost at Dealer' u'Cost at Independent'\n",
        "  u'Difference in Satisfaction between Dealer shops and Independents'\n",
        "  u'Display' u'Ease of use' u'Info for driver' u'Mount design'\n",
        "  u'Overall score' u'Routing' u'Tested battery life' u'Traffic interface'\n",
        "  u'Durability' u'Cleaning' u'Compatibility with plastic'\n",
        "  u'Ease of application' u'Ease of removal' u'Gloss improvement'\n",
        "  u'Ounces per bottle' u'Price per oz.' u'Scratching/hazing'\n",
        "  u'Cleaning - new' u'Cleaning -after 6 months' u'Dry braking' u'Handling'\n",
        "  u'Hydroplaning' u'Ice braking' u'Noise' u'Ride comfort'\n",
        "  u'Rolling resistance' u'Snow traction' u'Tread life' u'Wet braking'\n",
        "  u'Dry handling' u'Ride' u'Wet handling' u'CCA' u'Life'\n",
        "  u'Reserve capacity']\n",
        " [32 31 31 98 112 98 98 369 98 98 98 33 19 19 19 19 19 19 19 19 13 13 173\n",
        "  131 173 152 173 131 173 152 140 173 42 42 42 52 52 52]]\n",
        "-----\n",
        "[[u'Auto rerouting indicator' u'Biking or walking mode'\n",
        "  u'Bluetooth hands-free calling' u'Dynamic database gray-out letters'\n",
        "  u'Exit guide' u'FM transmitter' u'Gas prices capable'\n",
        "  u'Historic traffic data' u'Lane assistance' u'Location help'\n",
        "  u'Multi-destination routing' u'Music player' u'Photo viewer'\n",
        "  u'Pre-loaded map database' u'Reality view' u'Spoken street names'\n",
        "  u'Traffic antenna' u'Trip computer' u'Trip log' u'Video player'\n",
        "  u'Weather capable' u'Wi-Fi/Cellular connectivity' u'Carrying case'\n",
        "  u'Dimensions H x W x D' u'Memory storage' u'Replaceable battery'\n",
        "  u'Screen size' u'Traffic receiver' u'Traffic receiver price'\n",
        "  u'USB cable included' u'Weight' u'Color' u'Available sizes 1'\n",
        "  u'Available sizes 2' u'Available sizes 3' u'Available sizes 4'\n",
        "  u'Size tested' u'Speed rating' u'Treadwear warranty' u'UTQG temperature'\n",
        "  u'UTQG traction' u'UTQG treadwear' u'Available sizes 5'\n",
        "  u'Available sizes 6' u'Available sizes 7' u'Tread' u'Claimed CCA'\n",
        "  u'Handle' u'Has removable caps' u'Warranty']\n",
        " [113 113 113 113 113 113 113 113 113 113 113 113 113 113 113 113 113 113\n",
        "  113 113 113 113 113 113 113 113 113 113 113 113 112 132 173 173 173 153\n",
        "  173 173 140 140 140 140 107 91 49 33 52 52 52 52]]\n"
       ]
      }
     ],
     "prompt_number": 124
    },
    {
     "cell_type": "code",
     "collapsed": false,
     "input": [],
     "language": "python",
     "metadata": {},
     "outputs": []
    }
   ],
   "metadata": {}
  }
 ]
}